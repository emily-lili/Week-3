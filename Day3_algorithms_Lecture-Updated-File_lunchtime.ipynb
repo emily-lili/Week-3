{
 "cells": [
  {
   "cell_type": "markdown",
   "metadata": {},
   "source": [
    "# Algorithms, Binary Search & Linked Lists"
   ]
  },
  {
   "cell_type": "markdown",
   "metadata": {},
   "source": [
    "## Tasks Today:\n",
    " \n",
    "1) <b>In-Place Algorithms</b> <br>\n",
    " &nbsp;&nbsp;&nbsp;&nbsp; a) Syntax <br>\n",
    " &nbsp;&nbsp;&nbsp;&nbsp; a) Out of Place Algorithm <br>\n",
    " &nbsp;&nbsp;&nbsp;&nbsp; b) In-Class Exercise #1 <br>\n",
    "2) <b>Two Pointers</b> <br>\n",
    "3) <b>Linked Lists</b> <br>\n",
    "4) <b>Merge Sort</b> <br>\n",
    " &nbsp;&nbsp;&nbsp;&nbsp; a) Video on Algorithms <br>\n",
    " &nbsp;&nbsp;&nbsp;&nbsp; b) How it Works <br>\n",
    "5) <b>Exercises</b> <br>\n",
    " &nbsp;&nbsp;&nbsp;&nbsp; a) Exercise #1 - Reverse a List in Place Using an In-Place Algorithm <br>\n",
    " &nbsp;&nbsp;&nbsp;&nbsp; b) Exercise #2 - Find Distinct Words <br>\n",
    " &nbsp;&nbsp;&nbsp;&nbsp; c) Exercise #3 - Write a program to implement a Linear Search Algorithm. <br>"
   ]
  },
  {
   "cell_type": "markdown",
   "metadata": {},
   "source": [
    "## In-Place Algorithms"
   ]
  },
  {
   "cell_type": "markdown",
   "metadata": {},
   "source": [
    "#### Concept\n",
    "<p> In-place algorithms modify the original data structure that they are called on </p>\n",
    "<p> The classic example of an in-place algorithm, is .sort() - it sorts the original list in place and doesn't return anything... you just have access to the original list still, which is now sorted </p>\n",
    "<p> More memory efficient -> no copy, no new list, less memory space used </p>"
   ]
  },
  {
   "cell_type": "markdown",
   "metadata": {},
   "source": [
    "#### Syntax"
   ]
  },
  {
   "cell_type": "code",
   "execution_count": 12,
   "metadata": {
    "scrolled": true
   },
   "outputs": [
    {
     "name": "stdout",
     "output_type": "stream",
     "text": [
      "0x250e15023c0\n",
      "0x250e15023c0\n"
     ]
    },
    {
     "data": {
      "text/plain": [
       "['f', 'b', 'c', 'a', 'e', 'd']"
      ]
     },
     "execution_count": 12,
     "metadata": {},
     "output_type": "execute_result"
    }
   ],
   "source": [
    "alist = [200, 493, 12]\n",
    "\n",
    "# multiple variable assignment -> swapping two variables in a list\n",
    "alist[0], alist[2] = alist[2], alist[0]\n",
    "alist\n",
    "\n",
    "def swap(some_list,x,y,z):\n",
    "    # this will only work for lists of length 3\n",
    "    some_list[x], some_list[y], some_list[z] = some_list[z], some_list[x], some_list[y]\n",
    "    \n",
    "my_list = ['a','b','c', 'd', 'e', 'f']\n",
    "# lets make sure my_list before and after swap is still at the same memory location\n",
    "print(hex(id(my_list)))\n",
    "\n",
    "# swap is going to modify the original\n",
    "swap(my_list, 0, 3, -1)\n",
    "print(hex(id(my_list)))\n",
    "my_list"
   ]
  },
  {
   "cell_type": "markdown",
   "metadata": {},
   "source": [
    "## Out of Place Algorithm"
   ]
  },
  {
   "cell_type": "markdown",
   "metadata": {},
   "source": [
    "#### Concept\n",
    "<p> Out of place algorithms do not modify the original data structure that they are called on - they make a copy and leave the original unaltered </p>\n",
    "<p> The classic example of an out of place algorithm, is sorted() - it makes a copy of the original list, leaves the original list intact, and returns the new sorted list </p>\n",
    "<p> less memory efficient -> make a copy, you wind up with 2 lists instead of 1... however, they let you maintain data integrity. if we don't modify the original, we still have it as an original </p>"
   ]
  },
  {
   "cell_type": "markdown",
   "metadata": {},
   "source": [
    "#### Syntax"
   ]
  },
  {
   "cell_type": "code",
   "execution_count": 15,
   "metadata": {},
   "outputs": [
    {
     "name": "stdout",
     "output_type": "stream",
     "text": [
      "before: ['a', 'b', 'c', 'd', 'e', 'f'] @ 0x250e154af40\n",
      "after: ['a', 'b', 'c', 'd', 'e', 'f'] @ 0x250e154af40\n",
      "swapped version: ['f', 'b', 'c', 'a', 'e', 'd'] @ 0x250e14ef980\n"
     ]
    }
   ],
   "source": [
    "my_list = ['a','b','c', 'd', 'e', 'f']\n",
    "print(f'before: {my_list} @ {hex(id(my_list))}')\n",
    "def swap_out_of_place(some_list,x,y,z):\n",
    "    output = some_list[:] # make a copy using list slicing :)\n",
    "    output[x], output[y], output[z] = output[z], output[x], output[y]\n",
    "    return output\n",
    "\n",
    "swapped_list = swap_out_of_place(my_list, 0, 3, -1)\n",
    "\n",
    "print(f'after: {my_list} @ {hex(id(my_list))}')\n",
    "print(f'swapped version: {swapped_list} @ {hex(id(swapped_list))}')"
   ]
  },
  {
   "cell_type": "code",
   "execution_count": null,
   "metadata": {},
   "outputs": [],
   "source": [
    "# if you are using an out-of-place algorithm and you want to keep the result -> you need to RETURN it inside the function\n",
    "# and you need to save the function call as a variable (winds up saving the returned value as the variable)"
   ]
  },
  {
   "cell_type": "markdown",
   "metadata": {},
   "source": [
    "#### In-Class Exercise #1 <br>\n",
    "<p>Write a function that takes in four arguments (list, index1, index2, index3), and swaps those three positions in the list passed in.</p>"
   ]
  },
  {
   "cell_type": "code",
   "execution_count": 20,
   "metadata": {},
   "outputs": [
    {
     "data": {
      "text/plain": [
       "[10, 4, 2, 3, 4, 8, 6]"
      ]
     },
     "execution_count": 20,
     "metadata": {},
     "output_type": "execute_result"
    }
   ],
   "source": [
    "l_1 = [10, 4, 3, 8, 4, 2, 6]\n",
    "\n",
    "def swap(some_list,index1,index2,index3):\n",
    "    # this will only work for lists of length 3\n",
    "    some_list[index1], some_list[index2], some_list[index3] = some_list[index3], some_list[index1], some_list[index2]\n",
    "\n",
    "swap(l_1, 3, 5, 2)\n",
    "l_1"
   ]
  },
  {
   "cell_type": "markdown",
   "metadata": {},
   "source": [
    "<p> So far, we've been looking at swapping only 3 indexes around within a list (or out of place). How can we accomplish reversing our entire list? </p>\n",
    "<p> Out of place, its easy - list slicing has this behaviour built in! <a href='https://www.geeksforgeeks.org/python-list-slicing/'> List Slicing info page</a> </p>\n",
    "\n",
    "<p> List slicing lets you access copies of portions of a list - syntax is similar to indexing into a list - parameters are similar to the range() function </p>"
   ]
  },
  {
   "cell_type": "code",
   "execution_count": 33,
   "metadata": {},
   "outputs": [
    {
     "name": "stdout",
     "output_type": "stream",
     "text": [
      "['fennec fox', 'moon bear']\n",
      "['porpoise', 'moon bear', 'marine iguana', 'elephant', 'flamingo']\n",
      "['fennec fox', 'porpoise', 'moon bear', 'marine iguana', 'elephant', 'flamingo']\n",
      "['fennec fox', 'porpoise', 'moon bear', 'marine iguana', 'elephant', 'flamingo']\n",
      "reversed: ['flamingo', 'elephant', 'marine iguana', 'moon bear', 'porpoise', 'fennec fox'] @ 0x250e1549940\n",
      "original: ['fennec fox', 'porpoise', 'moon bear', 'marine iguana', 'elephant', 'flamingo'] @ 0x250e153e100\n"
     ]
    }
   ],
   "source": [
    "my_list = ['fennec fox','porpoise','moon bear', 'marine iguana', 'elephant', 'flamingo']\n",
    "# slicing syntax: list[start:stop(not included):step]\n",
    "# list slicing is an out of place algorithm\n",
    "# \n",
    "print(my_list[:3:2])\n",
    "print(my_list[1:])\n",
    "print(my_list)\n",
    "print(my_list[:])\n",
    "\n",
    "# out of place list reversal? list slice of the full list, with a backwards step\n",
    "reversed_my_list = my_list[::-1]\n",
    "print(f'reversed: {reversed_my_list} @ {hex(id(reversed_my_list))}')\n",
    "print(f'original: {my_list} @ {hex(id(my_list))}')"
   ]
  },
  {
   "cell_type": "markdown",
   "metadata": {},
   "source": [
    "#### Ok, that was reversing a list out of place - how do we reverse a list in-place? (spoiler alert: it is a bit harder)"
   ]
  },
  {
   "cell_type": "markdown",
   "metadata": {},
   "source": [
    "## Two Pointers"
   ]
  },
  {
   "cell_type": "markdown",
   "metadata": {},
   "source": [
    "#### Two pointers is a strategy of defining two variables to 'point' at two indexes of a list while you iterate/loop over that list\n",
    "#### pointers help you keep track of where you're at in the list\n",
    "#### very useful for in-place algorithms or more efficient looping"
   ]
  },
  {
   "cell_type": "markdown",
   "metadata": {},
   "source": [
    "#### Syntax"
   ]
  },
  {
   "cell_type": "code",
   "execution_count": 40,
   "metadata": {},
   "outputs": [
    {
     "name": "stdout",
     "output_type": "stream",
     "text": [
      "left: 0, right: -1 | ['fennec fox', 'porpoise', 'moon bear', 'marine iguana', 'elephant', 'flamingo']\n",
      "left: 1, right: -2 | ['flamingo', 'porpoise', 'moon bear', 'marine iguana', 'elephant', 'fennec fox']\n",
      "left: 2, right: -3 | ['flamingo', 'elephant', 'moon bear', 'marine iguana', 'porpoise', 'fennec fox']\n",
      "left: 3, right: -4 | ['flamingo', 'elephant', 'marine iguana', 'moon bear', 'porpoise', 'fennec fox']\n"
     ]
    },
    {
     "data": {
      "text/plain": [
       "['flamingo',\n",
       " 'elephant',\n",
       " 'marine iguana',\n",
       " 'moon bear',\n",
       " 'porpoise',\n",
       " 'fennec fox']"
      ]
     },
     "execution_count": 40,
     "metadata": {},
     "output_type": "execute_result"
    }
   ],
   "source": [
    "# reverse our list in-place using a double pointer approach\n",
    "\n",
    "my_list = ['fennec fox', 'porpoise', 'moon bear', 'marine iguana', 'elephant', 'flamingo']\n",
    "\n",
    "def pointerswapping(a_list):\n",
    "    # in-place swap all items -> i should be able to print the original my_list after this function is called\n",
    "    # and it should be reversed and this function shouldn't have to return anything\n",
    "    \n",
    "    # our two pointers are going to keep track of what we're swapping at each step of our process\n",
    "    # and then tell us when we run out of things to swap\n",
    "    left = 0\n",
    "    right = -1\n",
    "    while left < len(a_list)//2: # while the left pointer hasn't passed the middle of the list\n",
    "        print(f'left: {left}, right: {right} | {a_list}')\n",
    "        # swap our values\n",
    "        a_list[left], a_list[right] = a_list[right], a_list[left]\n",
    "        # move left pointer\n",
    "        left += 1\n",
    "        # move right pointer\n",
    "        right -= 1\n",
    "    # showing after we're done\n",
    "    print(f'left: {left}, right: {right} | {a_list}')\n",
    "        \n",
    "pointerswapping(my_list)\n",
    "my_list"
   ]
  },
  {
   "cell_type": "markdown",
   "metadata": {},
   "source": [
    "#### Video of Algorithms <br>\n",
    "<p>Watch the video about algorithms.</p>\n",
    "\n",
    "https://www.youtube.com/watch?v=Q9HjeFD62Uk\n",
    "\n",
    "https://www.youtube.com/watch?v=kPRA0W1kECg\n",
    "\n",
    "https://www.youtube.com/watch?v=ZZuD6iUe3Pc"
   ]
  },
  {
   "cell_type": "markdown",
   "metadata": {},
   "source": [
    "# Sorting Algorithms"
   ]
  },
  {
   "cell_type": "markdown",
   "metadata": {},
   "source": [
    "#### Bubble Sort\n",
    "\n",
    "Worst Case: O(n^2) Time - O(1) Space"
   ]
  },
  {
   "cell_type": "code",
   "execution_count": null,
   "metadata": {},
   "outputs": [],
   "source": []
  },
  {
   "cell_type": "markdown",
   "metadata": {},
   "source": [
    "##### Insertion Sort\n",
    "\n",
    "Worst Case: O(n^2) time - O(1)space"
   ]
  },
  {
   "cell_type": "code",
   "execution_count": null,
   "metadata": {},
   "outputs": [],
   "source": []
  },
  {
   "cell_type": "markdown",
   "metadata": {},
   "source": [
    "## Merge Sort"
   ]
  },
  {
   "cell_type": "markdown",
   "metadata": {},
   "source": [
    "#### How it Works"
   ]
  },
  {
   "cell_type": "code",
   "execution_count": null,
   "metadata": {},
   "outputs": [],
   "source": []
  },
  {
   "cell_type": "markdown",
   "metadata": {},
   "source": [
    "# Binary Search\n",
    "\n",
    "The Binary Search algorithm works by finding the number in the middle of a given array and comparing it to the target. Given that the array is sorted\n",
    "\n",
    "* The worst case run time for this algorithm is `O(log(n))`"
   ]
  },
  {
   "cell_type": "code",
   "execution_count": null,
   "metadata": {},
   "outputs": [],
   "source": []
  },
  {
   "cell_type": "markdown",
   "metadata": {},
   "source": [
    "# Exercises"
   ]
  },
  {
   "cell_type": "markdown",
   "metadata": {},
   "source": [
    "### Exercise #1 <br>\n",
    "<p>Reverse the list below in-place using an in-place algorithm.<br>For extra credit: Reverse the strings at the same time.</p>"
   ]
  },
  {
   "cell_type": "code",
   "execution_count": 6,
   "metadata": {},
   "outputs": [
    {
     "output_type": "stream",
     "name": "stdout",
     "text": [
      "['.', 'ecnetnes', 'a', 'si', 'siht']\n['.', 'ecnetnes', 'a', 'si', 'siht']\n"
     ]
    }
   ],
   "source": [
    "words = ['this' , 'is', 'a', 'sentence', '.']\n",
    "def reverse_words(list):  \n",
    "    list[::1] = [x[::-1] for x in list[::-1]]  \n",
    "    return list\n",
    "print(reverse_words(words))\n",
    "print(words) \n"
   ]
  },
  {
   "cell_type": "markdown",
   "metadata": {},
   "source": [
    "### Exercise #2 <br>\n",
    "<p>Create a function that counts how many distinct words are in the string below, then outputs a dictionary with the words as the key and the value as the amount of times that word appears in the string.<br>Should output:<br>{'a': 5,<br>\n",
    " 'abstract': 1,<br>\n",
    " 'an': 3,<br>\n",
    " 'array': 2, ... etc...</p>"
   ]
  },
  {
   "cell_type": "code",
   "execution_count": 8,
   "metadata": {},
   "outputs": [
    {
     "output_type": "stream",
     "name": "stdout",
     "text": [
      "{'In': 1, 'computing,': 1, 'a': 4, 'hash': 4, 'table': 2, 'map': 2, 'is': 1, 'data': 2, 'structure': 2, 'which': 2, 'implements': 1, 'an': 3, 'associative': 1, 'array': 2, 'abstract': 1, 'type,': 1, 'that': 1, 'can': 2, 'keys': 1, 'to': 2, 'values.': 1, 'A': 1, 'uses': 1, 'function': 1, 'compute': 1, 'index': 1, 'into': 1, 'of': 1, 'buckets': 1, 'or': 1, 'slots': 1, 'from': 1, 'the': 1, 'desired': 1, 'value': 1, 'be': 1, 'found': 1}\n"
     ]
    }
   ],
   "source": [
    "a_text = 'In computing, a hash table hash map is a data structure which implements an associative array abstract data type, a structure that can map keys to values. A hash table uses a hash function to compute an index into an array of buckets or slots from which the desired value can be found'\n",
    "def a_text(str):\n",
    "    counts = dict()\n",
    "    words = str.split()\n",
    "\n",
    "    for word in words:\n",
    "        if word in counts:\n",
    "            counts[word] += 1\n",
    "        else:\n",
    "            counts[word] = 1\n",
    "\n",
    "    return counts\n",
    "\n",
    "print(a_text('In computing, a hash table hash map is a data structure which implements an associative array abstract data type, a structure that can map keys to values. A hash table uses a hash function to compute an index into an array of buckets or slots from which the desired value can be found'))\n"
   ]
  },
  {
   "cell_type": "markdown",
   "metadata": {},
   "source": [
    "## Exercise #3\n",
    "\n",
    "Write a program to implement a Linear Search Algorithm. Also in a comment, write the Time Complexity of the following algorithm.\n",
    "\n",
    "#### Hint: Linear Searching will require searching a list for a given number. "
   ]
  },
  {
   "cell_type": "code",
   "execution_count": null,
   "metadata": {},
   "outputs": [],
   "source": [
    "#i have no clue how to tackle this problem..."
   ]
  }
 ],
 "metadata": {
  "kernelspec": {
   "name": "python3",
   "display_name": "Python 3.8.8 64-bit ('base': conda)"
  },
  "language_info": {
   "codemirror_mode": {
    "name": "ipython",
    "version": 3
   },
   "file_extension": ".py",
   "mimetype": "text/x-python",
   "name": "python",
   "nbconvert_exporter": "python",
   "pygments_lexer": "ipython3",
   "version": "3.8.8"
  },
  "interpreter": {
   "hash": "dca0ade3e726a953b501b15e8e990130d2b7799f14cfd9f4271676035ebe5511"
  }
 },
 "nbformat": 4,
 "nbformat_minor": 2
}